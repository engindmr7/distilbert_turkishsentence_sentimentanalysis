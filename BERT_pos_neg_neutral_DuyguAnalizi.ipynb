{
  "nbformat": 4,
  "nbformat_minor": 0,
  "metadata": {
    "colab": {
      "name": "BERT_pos_neg_neutral_DuyguAnalizi.ipynb",
      "provenance": [],
      "collapsed_sections": []
    },
    "kernelspec": {
      "name": "python3",
      "display_name": "Python 3"
    },
    "language_info": {
      "name": "python"
    },
    "widgets": {
      "application/vnd.jupyter.widget-state+json": {
        "cb7c4614a7594729b77476f50b545ae6": {
          "model_module": "@jupyter-widgets/controls",
          "model_name": "HBoxModel",
          "state": {
            "_view_name": "HBoxView",
            "_dom_classes": [],
            "_model_name": "HBoxModel",
            "_view_module": "@jupyter-widgets/controls",
            "_model_module_version": "1.5.0",
            "_view_count": null,
            "_view_module_version": "1.5.0",
            "box_style": "",
            "layout": "IPY_MODEL_1324b9151de5467ebbfd81052a80f622",
            "_model_module": "@jupyter-widgets/controls",
            "children": [
              "IPY_MODEL_71e9bf56f5e34660afbf91640c195525",
              "IPY_MODEL_a3dcfb54ef964611807a4396054276cf"
            ]
          }
        },
        "1324b9151de5467ebbfd81052a80f622": {
          "model_module": "@jupyter-widgets/base",
          "model_name": "LayoutModel",
          "state": {
            "_view_name": "LayoutView",
            "grid_template_rows": null,
            "right": null,
            "justify_content": null,
            "_view_module": "@jupyter-widgets/base",
            "overflow": null,
            "_model_module_version": "1.2.0",
            "_view_count": null,
            "flex_flow": null,
            "width": null,
            "min_width": null,
            "border": null,
            "align_items": null,
            "bottom": null,
            "_model_module": "@jupyter-widgets/base",
            "top": null,
            "grid_column": null,
            "overflow_y": null,
            "overflow_x": null,
            "grid_auto_flow": null,
            "grid_area": null,
            "grid_template_columns": null,
            "flex": null,
            "_model_name": "LayoutModel",
            "justify_items": null,
            "grid_row": null,
            "max_height": null,
            "align_content": null,
            "visibility": null,
            "align_self": null,
            "height": null,
            "min_height": null,
            "padding": null,
            "grid_auto_rows": null,
            "grid_gap": null,
            "max_width": null,
            "order": null,
            "_view_module_version": "1.2.0",
            "grid_template_areas": null,
            "object_position": null,
            "object_fit": null,
            "grid_auto_columns": null,
            "margin": null,
            "display": null,
            "left": null
          }
        },
        "71e9bf56f5e34660afbf91640c195525": {
          "model_module": "@jupyter-widgets/controls",
          "model_name": "FloatProgressModel",
          "state": {
            "_view_name": "ProgressView",
            "style": "IPY_MODEL_65333bce67c04ea2a075b8c24ff5bed0",
            "_dom_classes": [],
            "description": "Downloading: 100%",
            "_model_name": "FloatProgressModel",
            "bar_style": "success",
            "max": 251003,
            "_view_module": "@jupyter-widgets/controls",
            "_model_module_version": "1.5.0",
            "value": 251003,
            "_view_count": null,
            "_view_module_version": "1.5.0",
            "orientation": "horizontal",
            "min": 0,
            "description_tooltip": null,
            "_model_module": "@jupyter-widgets/controls",
            "layout": "IPY_MODEL_456e5cf0e57d4b339d612a35666f69a2"
          }
        },
        "a3dcfb54ef964611807a4396054276cf": {
          "model_module": "@jupyter-widgets/controls",
          "model_name": "HTMLModel",
          "state": {
            "_view_name": "HTMLView",
            "style": "IPY_MODEL_bb71253769884efaae568548a14e8086",
            "_dom_classes": [],
            "description": "",
            "_model_name": "HTMLModel",
            "placeholder": "​",
            "_view_module": "@jupyter-widgets/controls",
            "_model_module_version": "1.5.0",
            "value": " 251k/251k [00:01&lt;00:00, 137kB/s]",
            "_view_count": null,
            "_view_module_version": "1.5.0",
            "description_tooltip": null,
            "_model_module": "@jupyter-widgets/controls",
            "layout": "IPY_MODEL_8c39d764b4d94391befdaad9e2e39dae"
          }
        },
        "65333bce67c04ea2a075b8c24ff5bed0": {
          "model_module": "@jupyter-widgets/controls",
          "model_name": "ProgressStyleModel",
          "state": {
            "_view_name": "StyleView",
            "_model_name": "ProgressStyleModel",
            "description_width": "initial",
            "_view_module": "@jupyter-widgets/base",
            "_model_module_version": "1.5.0",
            "_view_count": null,
            "_view_module_version": "1.2.0",
            "bar_color": null,
            "_model_module": "@jupyter-widgets/controls"
          }
        },
        "456e5cf0e57d4b339d612a35666f69a2": {
          "model_module": "@jupyter-widgets/base",
          "model_name": "LayoutModel",
          "state": {
            "_view_name": "LayoutView",
            "grid_template_rows": null,
            "right": null,
            "justify_content": null,
            "_view_module": "@jupyter-widgets/base",
            "overflow": null,
            "_model_module_version": "1.2.0",
            "_view_count": null,
            "flex_flow": null,
            "width": null,
            "min_width": null,
            "border": null,
            "align_items": null,
            "bottom": null,
            "_model_module": "@jupyter-widgets/base",
            "top": null,
            "grid_column": null,
            "overflow_y": null,
            "overflow_x": null,
            "grid_auto_flow": null,
            "grid_area": null,
            "grid_template_columns": null,
            "flex": null,
            "_model_name": "LayoutModel",
            "justify_items": null,
            "grid_row": null,
            "max_height": null,
            "align_content": null,
            "visibility": null,
            "align_self": null,
            "height": null,
            "min_height": null,
            "padding": null,
            "grid_auto_rows": null,
            "grid_gap": null,
            "max_width": null,
            "order": null,
            "_view_module_version": "1.2.0",
            "grid_template_areas": null,
            "object_position": null,
            "object_fit": null,
            "grid_auto_columns": null,
            "margin": null,
            "display": null,
            "left": null
          }
        },
        "bb71253769884efaae568548a14e8086": {
          "model_module": "@jupyter-widgets/controls",
          "model_name": "DescriptionStyleModel",
          "state": {
            "_view_name": "StyleView",
            "_model_name": "DescriptionStyleModel",
            "description_width": "",
            "_view_module": "@jupyter-widgets/base",
            "_model_module_version": "1.5.0",
            "_view_count": null,
            "_view_module_version": "1.2.0",
            "_model_module": "@jupyter-widgets/controls"
          }
        },
        "8c39d764b4d94391befdaad9e2e39dae": {
          "model_module": "@jupyter-widgets/base",
          "model_name": "LayoutModel",
          "state": {
            "_view_name": "LayoutView",
            "grid_template_rows": null,
            "right": null,
            "justify_content": null,
            "_view_module": "@jupyter-widgets/base",
            "overflow": null,
            "_model_module_version": "1.2.0",
            "_view_count": null,
            "flex_flow": null,
            "width": null,
            "min_width": null,
            "border": null,
            "align_items": null,
            "bottom": null,
            "_model_module": "@jupyter-widgets/base",
            "top": null,
            "grid_column": null,
            "overflow_y": null,
            "overflow_x": null,
            "grid_auto_flow": null,
            "grid_area": null,
            "grid_template_columns": null,
            "flex": null,
            "_model_name": "LayoutModel",
            "justify_items": null,
            "grid_row": null,
            "max_height": null,
            "align_content": null,
            "visibility": null,
            "align_self": null,
            "height": null,
            "min_height": null,
            "padding": null,
            "grid_auto_rows": null,
            "grid_gap": null,
            "max_width": null,
            "order": null,
            "_view_module_version": "1.2.0",
            "grid_template_areas": null,
            "object_position": null,
            "object_fit": null,
            "grid_auto_columns": null,
            "margin": null,
            "display": null,
            "left": null
          }
        },
        "161bef2df2ec4747897de5f603dac274": {
          "model_module": "@jupyter-widgets/controls",
          "model_name": "HBoxModel",
          "state": {
            "_view_name": "HBoxView",
            "_dom_classes": [],
            "_model_name": "HBoxModel",
            "_view_module": "@jupyter-widgets/controls",
            "_model_module_version": "1.5.0",
            "_view_count": null,
            "_view_module_version": "1.5.0",
            "box_style": "",
            "layout": "IPY_MODEL_5b558ae962414caab3c73cecd884f86c",
            "_model_module": "@jupyter-widgets/controls",
            "children": [
              "IPY_MODEL_184c76ce47d2474aa3a41a76ef09a618",
              "IPY_MODEL_a9ecab8fa35b4a9b90fe1e37df62436a"
            ]
          }
        },
        "5b558ae962414caab3c73cecd884f86c": {
          "model_module": "@jupyter-widgets/base",
          "model_name": "LayoutModel",
          "state": {
            "_view_name": "LayoutView",
            "grid_template_rows": null,
            "right": null,
            "justify_content": null,
            "_view_module": "@jupyter-widgets/base",
            "overflow": null,
            "_model_module_version": "1.2.0",
            "_view_count": null,
            "flex_flow": null,
            "width": null,
            "min_width": null,
            "border": null,
            "align_items": null,
            "bottom": null,
            "_model_module": "@jupyter-widgets/base",
            "top": null,
            "grid_column": null,
            "overflow_y": null,
            "overflow_x": null,
            "grid_auto_flow": null,
            "grid_area": null,
            "grid_template_columns": null,
            "flex": null,
            "_model_name": "LayoutModel",
            "justify_items": null,
            "grid_row": null,
            "max_height": null,
            "align_content": null,
            "visibility": null,
            "align_self": null,
            "height": null,
            "min_height": null,
            "padding": null,
            "grid_auto_rows": null,
            "grid_gap": null,
            "max_width": null,
            "order": null,
            "_view_module_version": "1.2.0",
            "grid_template_areas": null,
            "object_position": null,
            "object_fit": null,
            "grid_auto_columns": null,
            "margin": null,
            "display": null,
            "left": null
          }
        },
        "184c76ce47d2474aa3a41a76ef09a618": {
          "model_module": "@jupyter-widgets/controls",
          "model_name": "FloatProgressModel",
          "state": {
            "_view_name": "ProgressView",
            "style": "IPY_MODEL_0a5e3d53a8634747a0cc110a741d18c9",
            "_dom_classes": [],
            "description": "Downloading: 100%",
            "_model_name": "FloatProgressModel",
            "bar_style": "success",
            "max": 60,
            "_view_module": "@jupyter-widgets/controls",
            "_model_module_version": "1.5.0",
            "value": 60,
            "_view_count": null,
            "_view_module_version": "1.5.0",
            "orientation": "horizontal",
            "min": 0,
            "description_tooltip": null,
            "_model_module": "@jupyter-widgets/controls",
            "layout": "IPY_MODEL_37e983f94935459f83ca739115b74ada"
          }
        },
        "a9ecab8fa35b4a9b90fe1e37df62436a": {
          "model_module": "@jupyter-widgets/controls",
          "model_name": "HTMLModel",
          "state": {
            "_view_name": "HTMLView",
            "style": "IPY_MODEL_66cc28771448475d9e3e76b8099e4738",
            "_dom_classes": [],
            "description": "",
            "_model_name": "HTMLModel",
            "placeholder": "​",
            "_view_module": "@jupyter-widgets/controls",
            "_model_module_version": "1.5.0",
            "value": " 60.0/60.0 [00:00&lt;00:00, 669B/s]",
            "_view_count": null,
            "_view_module_version": "1.5.0",
            "description_tooltip": null,
            "_model_module": "@jupyter-widgets/controls",
            "layout": "IPY_MODEL_63cd3926b1e6491985ef7f90c3189f9c"
          }
        },
        "0a5e3d53a8634747a0cc110a741d18c9": {
          "model_module": "@jupyter-widgets/controls",
          "model_name": "ProgressStyleModel",
          "state": {
            "_view_name": "StyleView",
            "_model_name": "ProgressStyleModel",
            "description_width": "initial",
            "_view_module": "@jupyter-widgets/base",
            "_model_module_version": "1.5.0",
            "_view_count": null,
            "_view_module_version": "1.2.0",
            "bar_color": null,
            "_model_module": "@jupyter-widgets/controls"
          }
        },
        "37e983f94935459f83ca739115b74ada": {
          "model_module": "@jupyter-widgets/base",
          "model_name": "LayoutModel",
          "state": {
            "_view_name": "LayoutView",
            "grid_template_rows": null,
            "right": null,
            "justify_content": null,
            "_view_module": "@jupyter-widgets/base",
            "overflow": null,
            "_model_module_version": "1.2.0",
            "_view_count": null,
            "flex_flow": null,
            "width": null,
            "min_width": null,
            "border": null,
            "align_items": null,
            "bottom": null,
            "_model_module": "@jupyter-widgets/base",
            "top": null,
            "grid_column": null,
            "overflow_y": null,
            "overflow_x": null,
            "grid_auto_flow": null,
            "grid_area": null,
            "grid_template_columns": null,
            "flex": null,
            "_model_name": "LayoutModel",
            "justify_items": null,
            "grid_row": null,
            "max_height": null,
            "align_content": null,
            "visibility": null,
            "align_self": null,
            "height": null,
            "min_height": null,
            "padding": null,
            "grid_auto_rows": null,
            "grid_gap": null,
            "max_width": null,
            "order": null,
            "_view_module_version": "1.2.0",
            "grid_template_areas": null,
            "object_position": null,
            "object_fit": null,
            "grid_auto_columns": null,
            "margin": null,
            "display": null,
            "left": null
          }
        },
        "66cc28771448475d9e3e76b8099e4738": {
          "model_module": "@jupyter-widgets/controls",
          "model_name": "DescriptionStyleModel",
          "state": {
            "_view_name": "StyleView",
            "_model_name": "DescriptionStyleModel",
            "description_width": "",
            "_view_module": "@jupyter-widgets/base",
            "_model_module_version": "1.5.0",
            "_view_count": null,
            "_view_module_version": "1.2.0",
            "_model_module": "@jupyter-widgets/controls"
          }
        },
        "63cd3926b1e6491985ef7f90c3189f9c": {
          "model_module": "@jupyter-widgets/base",
          "model_name": "LayoutModel",
          "state": {
            "_view_name": "LayoutView",
            "grid_template_rows": null,
            "right": null,
            "justify_content": null,
            "_view_module": "@jupyter-widgets/base",
            "overflow": null,
            "_model_module_version": "1.2.0",
            "_view_count": null,
            "flex_flow": null,
            "width": null,
            "min_width": null,
            "border": null,
            "align_items": null,
            "bottom": null,
            "_model_module": "@jupyter-widgets/base",
            "top": null,
            "grid_column": null,
            "overflow_y": null,
            "overflow_x": null,
            "grid_auto_flow": null,
            "grid_area": null,
            "grid_template_columns": null,
            "flex": null,
            "_model_name": "LayoutModel",
            "justify_items": null,
            "grid_row": null,
            "max_height": null,
            "align_content": null,
            "visibility": null,
            "align_self": null,
            "height": null,
            "min_height": null,
            "padding": null,
            "grid_auto_rows": null,
            "grid_gap": null,
            "max_width": null,
            "order": null,
            "_view_module_version": "1.2.0",
            "grid_template_areas": null,
            "object_position": null,
            "object_fit": null,
            "grid_auto_columns": null,
            "margin": null,
            "display": null,
            "left": null
          }
        }
      }
    }
  },
  "cells": [
    {
      "cell_type": "code",
      "metadata": {
        "colab": {
          "base_uri": "https://localhost:8080/"
        },
        "id": "RLcSl213m0c3",
        "outputId": "22d69bc1-176c-459d-ba3e-d9d0f4a28dbc"
      },
      "source": [
        "#Onnx Çalışma Zamanı, bir transformatör modeli yüklenirken çoğu optimizasyonu otomatik olarak uygular.\n",
        "!pip install onnxruntime transformers gdown "
      ],
      "execution_count": 1,
      "outputs": [
        {
          "output_type": "stream",
          "text": [
            "Collecting onnxruntime\n",
            "\u001b[?25l  Downloading https://files.pythonhosted.org/packages/0c/f0/666d6e3ceaa276a54e728f9972732e058544cbb6a3e1a778a8d6f87132c1/onnxruntime-1.7.0-cp37-cp37m-manylinux2014_x86_64.whl (4.1MB)\n",
            "\u001b[K     |████████████████████████████████| 4.1MB 13.4MB/s \n",
            "\u001b[?25hCollecting transformers\n",
            "\u001b[?25l  Downloading https://files.pythonhosted.org/packages/d8/b2/57495b5309f09fa501866e225c84532d1fd89536ea62406b2181933fb418/transformers-4.5.1-py3-none-any.whl (2.1MB)\n",
            "\u001b[K     |████████████████████████████████| 2.1MB 54.5MB/s \n",
            "\u001b[?25hRequirement already satisfied: gdown in /usr/local/lib/python3.7/dist-packages (3.6.4)\n",
            "Requirement already satisfied: numpy>=1.16.6 in /usr/local/lib/python3.7/dist-packages (from onnxruntime) (1.19.5)\n",
            "Requirement already satisfied: protobuf in /usr/local/lib/python3.7/dist-packages (from onnxruntime) (3.12.4)\n",
            "Requirement already satisfied: tqdm>=4.27 in /usr/local/lib/python3.7/dist-packages (from transformers) (4.41.1)\n",
            "Requirement already satisfied: importlib-metadata; python_version < \"3.8\" in /usr/local/lib/python3.7/dist-packages (from transformers) (3.10.1)\n",
            "Requirement already satisfied: requests in /usr/local/lib/python3.7/dist-packages (from transformers) (2.23.0)\n",
            "Collecting sacremoses\n",
            "\u001b[?25l  Downloading https://files.pythonhosted.org/packages/08/cd/342e584ee544d044fb573ae697404ce22ede086c9e87ce5960772084cad0/sacremoses-0.0.44.tar.gz (862kB)\n",
            "\u001b[K     |████████████████████████████████| 870kB 42.1MB/s \n",
            "\u001b[?25hCollecting tokenizers<0.11,>=0.10.1\n",
            "\u001b[?25l  Downloading https://files.pythonhosted.org/packages/ae/04/5b870f26a858552025a62f1649c20d29d2672c02ff3c3fb4c688ca46467a/tokenizers-0.10.2-cp37-cp37m-manylinux2010_x86_64.whl (3.3MB)\n",
            "\u001b[K     |████████████████████████████████| 3.3MB 16.8MB/s \n",
            "\u001b[?25hRequirement already satisfied: regex!=2019.12.17 in /usr/local/lib/python3.7/dist-packages (from transformers) (2019.12.20)\n",
            "Requirement already satisfied: packaging in /usr/local/lib/python3.7/dist-packages (from transformers) (20.9)\n",
            "Requirement already satisfied: filelock in /usr/local/lib/python3.7/dist-packages (from transformers) (3.0.12)\n",
            "Requirement already satisfied: six in /usr/local/lib/python3.7/dist-packages (from gdown) (1.15.0)\n",
            "Requirement already satisfied: setuptools in /usr/local/lib/python3.7/dist-packages (from protobuf->onnxruntime) (54.2.0)\n",
            "Requirement already satisfied: zipp>=0.5 in /usr/local/lib/python3.7/dist-packages (from importlib-metadata; python_version < \"3.8\"->transformers) (3.4.1)\n",
            "Requirement already satisfied: typing-extensions>=3.6.4; python_version < \"3.8\" in /usr/local/lib/python3.7/dist-packages (from importlib-metadata; python_version < \"3.8\"->transformers) (3.7.4.3)\n",
            "Requirement already satisfied: certifi>=2017.4.17 in /usr/local/lib/python3.7/dist-packages (from requests->transformers) (2020.12.5)\n",
            "Requirement already satisfied: urllib3!=1.25.0,!=1.25.1,<1.26,>=1.21.1 in /usr/local/lib/python3.7/dist-packages (from requests->transformers) (1.24.3)\n",
            "Requirement already satisfied: idna<3,>=2.5 in /usr/local/lib/python3.7/dist-packages (from requests->transformers) (2.10)\n",
            "Requirement already satisfied: chardet<4,>=3.0.2 in /usr/local/lib/python3.7/dist-packages (from requests->transformers) (3.0.4)\n",
            "Requirement already satisfied: click in /usr/local/lib/python3.7/dist-packages (from sacremoses->transformers) (7.1.2)\n",
            "Requirement already satisfied: joblib in /usr/local/lib/python3.7/dist-packages (from sacremoses->transformers) (1.0.1)\n",
            "Requirement already satisfied: pyparsing>=2.0.2 in /usr/local/lib/python3.7/dist-packages (from packaging->transformers) (2.4.7)\n",
            "Building wheels for collected packages: sacremoses\n",
            "  Building wheel for sacremoses (setup.py) ... \u001b[?25l\u001b[?25hdone\n",
            "  Created wheel for sacremoses: filename=sacremoses-0.0.44-cp37-none-any.whl size=886084 sha256=4ed0196cd260c8a3286c94b74fedfcd3ad0dbd0f6b90f9deaa561cccc94921d6\n",
            "  Stored in directory: /root/.cache/pip/wheels/3e/fb/c0/13ab4d63d537658f448366744654323077c4d90069b6512f3c\n",
            "Successfully built sacremoses\n",
            "Installing collected packages: onnxruntime, sacremoses, tokenizers, transformers\n",
            "Successfully installed onnxruntime-1.7.0 sacremoses-0.0.44 tokenizers-0.10.2 transformers-4.5.1\n"
          ],
          "name": "stdout"
        }
      ]
    },
    {
      "cell_type": "code",
      "metadata": {
        "id": "Lb-RzdQ4nDP_"
      },
      "source": [
        "import onnxruntime as ort\n",
        "from transformers import BertTokenizerFast\n",
        "import pandas as pd\n",
        "import re\n",
        "import math\n",
        "import sys\n",
        "import os\n",
        "import time\n",
        "import numpy as np\n",
        "import torch"
      ],
      "execution_count": 2,
      "outputs": []
    },
    {
      "cell_type": "code",
      "metadata": {
        "colab": {
          "base_uri": "https://localhost:8080/"
        },
        "id": "XAEpT1SlnHuI",
        "outputId": "5a2fb2f3-bff1-4333-d428-daf2dc19169a"
      },
      "source": [
        "# Oluşturulan Türkçe Duygu analizi modeli yüklenir.\n",
        "\n",
        "!gdown --id 1NWlShIdsEb543J6yIPCyKsANAHCwSR8X"
      ],
      "execution_count": 3,
      "outputs": [
        {
          "output_type": "stream",
          "text": [
            "Downloading...\n",
            "From: https://drive.google.com/uc?id=1NWlShIdsEb543J6yIPCyKsANAHCwSR8X\n",
            "To: /content/distilbert.onnx\n",
            "270MB [00:01, 197MB/s]\n"
          ],
          "name": "stdout"
        }
      ]
    },
    {
      "cell_type": "code",
      "metadata": {
        "colab": {
          "base_uri": "https://localhost:8080/",
          "height": 115,
          "referenced_widgets": [
            "cb7c4614a7594729b77476f50b545ae6",
            "1324b9151de5467ebbfd81052a80f622",
            "71e9bf56f5e34660afbf91640c195525",
            "a3dcfb54ef964611807a4396054276cf",
            "65333bce67c04ea2a075b8c24ff5bed0",
            "456e5cf0e57d4b339d612a35666f69a2",
            "bb71253769884efaae568548a14e8086",
            "8c39d764b4d94391befdaad9e2e39dae",
            "161bef2df2ec4747897de5f603dac274",
            "5b558ae962414caab3c73cecd884f86c",
            "184c76ce47d2474aa3a41a76ef09a618",
            "a9ecab8fa35b4a9b90fe1e37df62436a",
            "0a5e3d53a8634747a0cc110a741d18c9",
            "37e983f94935459f83ca739115b74ada",
            "66cc28771448475d9e3e76b8099e4738",
            "63cd3926b1e6491985ef7f90c3189f9c"
          ]
        },
        "id": "Bc5L1-MrnMDP",
        "outputId": "fd56f13d-593d-4215-d2b5-a83f9042fa22"
      },
      "source": [
        "# Türkçe Duygu Analizi için oluşturulan Model ve Tokenizer yüklenir. \n",
        "\n",
        "ort_session = ort.InferenceSession(\"distilbert.onnx\")\n",
        "tokenizer = BertTokenizerFast.from_pretrained('dbmdz/distilbert-base-turkish-cased')"
      ],
      "execution_count": 4,
      "outputs": [
        {
          "output_type": "display_data",
          "data": {
            "application/vnd.jupyter.widget-view+json": {
              "model_id": "cb7c4614a7594729b77476f50b545ae6",
              "version_minor": 0,
              "version_major": 2
            },
            "text/plain": [
              "HBox(children=(FloatProgress(value=0.0, description='Downloading', max=251003.0, style=ProgressStyle(descripti…"
            ]
          },
          "metadata": {
            "tags": []
          }
        },
        {
          "output_type": "stream",
          "text": [
            "\n"
          ],
          "name": "stdout"
        },
        {
          "output_type": "display_data",
          "data": {
            "application/vnd.jupyter.widget-view+json": {
              "model_id": "161bef2df2ec4747897de5f603dac274",
              "version_minor": 0,
              "version_major": 2
            },
            "text/plain": [
              "HBox(children=(FloatProgress(value=0.0, description='Downloading', max=60.0, style=ProgressStyle(description_w…"
            ]
          },
          "metadata": {
            "tags": []
          }
        },
        {
          "output_type": "stream",
          "text": [
            "\n"
          ],
          "name": "stdout"
        }
      ]
    },
    {
      "cell_type": "code",
      "metadata": {
        "id": "nUp_8stanS53"
      },
      "source": [
        "# Veri seti yüklenir.\n",
        "dataset = pd.read_csv('ses_kayitlari_metin.csv' , sep='delimiter',  engine='python', encoding='cp1254')\n",
        "\n",
        "data = dataset['sentence'].values.tolist()"
      ],
      "execution_count": 5,
      "outputs": []
    },
    {
      "cell_type": "code",
      "metadata": {
        "colab": {
          "base_uri": "https://localhost:8080/"
        },
        "id": "3dXkGYiSnXNJ",
        "outputId": "5582cf7a-1026-4232-cf6e-a3926da1b68a"
      },
      "source": [
        "#Öncelikle veriler üzerinde tokenleştirme işlemleri gerçekleştirilir.\n",
        "#Modele belirlenen boyutlarda veri gönderimi sağlanır.\n",
        "#Maskeleme işlemleri gerçekleştirilir ve belirlenen veri gönderim boyutu ile veri seti üzerinde işlemler yapılır.\n",
        "#Veri seti üzerinde yapılan işlemler sonrasında final_results değişkenine verilerin duygu etiketleri aktarılır.\n",
        "\n",
        "\n",
        "tokenized_sentences = tokenizer.batch_encode_plus(data, padding=\"max_length\", truncation=True, max_length=128)\n",
        "\n",
        "batch_size = 40\n",
        "N = len(data)\n",
        "final_results = []\n",
        "for idx in range(math.ceil(N/batch_size)):\n",
        "    print(\"Inference:\",len(final_results),\"/\",N)\n",
        "    inp_ids = tokenized_sentences[\"input_ids\"][idx*batch_size:min((idx+1)*batch_size, N)]\n",
        "    att_mask = tokenized_sentences[\"attention_mask\"][idx*batch_size:min((idx+1)*batch_size, N)]\n",
        "    real_size = len(inp_ids)\n",
        "    if len(inp_ids)<batch_size:\n",
        "        inp_ids.extend([inp_ids[0]]*(batch_size-real_size))\n",
        "        att_mask.extend([att_mask[0]]*(batch_size-real_size))\n",
        "    x = {'input_ids': np.array(inp_ids), 'input_atns':np.array(att_mask)}\n",
        "    outputs = ort_session.run(None, x)\n",
        "    values = np.argmax((outputs[0]), 1)[:real_size]\n",
        "    final_results.extend([x-1 for x in values.tolist()])"
      ],
      "execution_count": 7,
      "outputs": [
        {
          "output_type": "stream",
          "text": [
            "Inference: 0 / 5001\n",
            "Inference: 40 / 5001\n",
            "Inference: 80 / 5001\n",
            "Inference: 120 / 5001\n",
            "Inference: 160 / 5001\n",
            "Inference: 200 / 5001\n",
            "Inference: 240 / 5001\n",
            "Inference: 280 / 5001\n",
            "Inference: 320 / 5001\n",
            "Inference: 360 / 5001\n",
            "Inference: 400 / 5001\n",
            "Inference: 440 / 5001\n",
            "Inference: 480 / 5001\n",
            "Inference: 520 / 5001\n",
            "Inference: 560 / 5001\n",
            "Inference: 600 / 5001\n",
            "Inference: 640 / 5001\n",
            "Inference: 680 / 5001\n",
            "Inference: 720 / 5001\n",
            "Inference: 760 / 5001\n",
            "Inference: 800 / 5001\n",
            "Inference: 840 / 5001\n",
            "Inference: 880 / 5001\n",
            "Inference: 920 / 5001\n",
            "Inference: 960 / 5001\n",
            "Inference: 1000 / 5001\n",
            "Inference: 1040 / 5001\n",
            "Inference: 1080 / 5001\n",
            "Inference: 1120 / 5001\n",
            "Inference: 1160 / 5001\n",
            "Inference: 1200 / 5001\n",
            "Inference: 1240 / 5001\n",
            "Inference: 1280 / 5001\n",
            "Inference: 1320 / 5001\n",
            "Inference: 1360 / 5001\n",
            "Inference: 1400 / 5001\n",
            "Inference: 1440 / 5001\n",
            "Inference: 1480 / 5001\n",
            "Inference: 1520 / 5001\n",
            "Inference: 1560 / 5001\n",
            "Inference: 1600 / 5001\n",
            "Inference: 1640 / 5001\n",
            "Inference: 1680 / 5001\n",
            "Inference: 1720 / 5001\n",
            "Inference: 1760 / 5001\n",
            "Inference: 1800 / 5001\n",
            "Inference: 1840 / 5001\n",
            "Inference: 1880 / 5001\n",
            "Inference: 1920 / 5001\n",
            "Inference: 1960 / 5001\n",
            "Inference: 2000 / 5001\n",
            "Inference: 2040 / 5001\n",
            "Inference: 2080 / 5001\n",
            "Inference: 2120 / 5001\n",
            "Inference: 2160 / 5001\n",
            "Inference: 2200 / 5001\n",
            "Inference: 2240 / 5001\n",
            "Inference: 2280 / 5001\n",
            "Inference: 2320 / 5001\n",
            "Inference: 2360 / 5001\n",
            "Inference: 2400 / 5001\n",
            "Inference: 2440 / 5001\n",
            "Inference: 2480 / 5001\n",
            "Inference: 2520 / 5001\n",
            "Inference: 2560 / 5001\n",
            "Inference: 2600 / 5001\n",
            "Inference: 2640 / 5001\n",
            "Inference: 2680 / 5001\n",
            "Inference: 2720 / 5001\n",
            "Inference: 2760 / 5001\n",
            "Inference: 2800 / 5001\n",
            "Inference: 2840 / 5001\n",
            "Inference: 2880 / 5001\n",
            "Inference: 2920 / 5001\n",
            "Inference: 2960 / 5001\n",
            "Inference: 3000 / 5001\n",
            "Inference: 3040 / 5001\n",
            "Inference: 3080 / 5001\n",
            "Inference: 3120 / 5001\n",
            "Inference: 3160 / 5001\n",
            "Inference: 3200 / 5001\n",
            "Inference: 3240 / 5001\n",
            "Inference: 3280 / 5001\n",
            "Inference: 3320 / 5001\n",
            "Inference: 3360 / 5001\n",
            "Inference: 3400 / 5001\n",
            "Inference: 3440 / 5001\n",
            "Inference: 3480 / 5001\n",
            "Inference: 3520 / 5001\n",
            "Inference: 3560 / 5001\n",
            "Inference: 3600 / 5001\n",
            "Inference: 3640 / 5001\n",
            "Inference: 3680 / 5001\n",
            "Inference: 3720 / 5001\n",
            "Inference: 3760 / 5001\n",
            "Inference: 3800 / 5001\n",
            "Inference: 3840 / 5001\n",
            "Inference: 3880 / 5001\n",
            "Inference: 3920 / 5001\n",
            "Inference: 3960 / 5001\n",
            "Inference: 4000 / 5001\n",
            "Inference: 4040 / 5001\n",
            "Inference: 4080 / 5001\n",
            "Inference: 4120 / 5001\n",
            "Inference: 4160 / 5001\n",
            "Inference: 4200 / 5001\n",
            "Inference: 4240 / 5001\n",
            "Inference: 4280 / 5001\n",
            "Inference: 4320 / 5001\n",
            "Inference: 4360 / 5001\n",
            "Inference: 4400 / 5001\n",
            "Inference: 4440 / 5001\n",
            "Inference: 4480 / 5001\n",
            "Inference: 4520 / 5001\n",
            "Inference: 4560 / 5001\n",
            "Inference: 4600 / 5001\n",
            "Inference: 4640 / 5001\n",
            "Inference: 4680 / 5001\n",
            "Inference: 4720 / 5001\n",
            "Inference: 4760 / 5001\n",
            "Inference: 4800 / 5001\n",
            "Inference: 4840 / 5001\n",
            "Inference: 4880 / 5001\n",
            "Inference: 4920 / 5001\n",
            "Inference: 4960 / 5001\n",
            "Inference: 5000 / 5001\n"
          ],
          "name": "stdout"
        }
      ]
    },
    {
      "cell_type": "code",
      "metadata": {
        "colab": {
          "base_uri": "https://localhost:8080/"
        },
        "id": "1oMKjuxTrcwY",
        "outputId": "478cebd6-bdda-4836-efd9-7c3ae6fe2a0d"
      },
      "source": [
        "#Modelde üç duygu etiketi bulunmaktadır.Bunlar ; Negatif (-1), Nötr (0) ve Pozitiftir(1).\n",
        "#Veri setinde bulunan cümleler üzerinde yapılan tokenleştirme, maskeleme ve modelde yapılan işlemler sonucunda duygu tespitleri sağlanır.\n",
        "#Sentence ve Sentiment şeklinde iki sütuna ayrılan çıktılar, excel dosyasına aktarılır.\n",
        "\n",
        "df = pd.DataFrame(columns=[\"Sentence\", \"Sentiment\"])\n",
        "\n",
        "df[\"Sentence\"] = data\n",
        "df[\"Sentiment\"] = final_results\n",
        "print(df)\n",
        "df.to_excel('BERT.xlsx')"
      ],
      "execution_count": 8,
      "outputs": [
        {
          "output_type": "stream",
          "text": [
            "                                               Sentence  Sentiment\n",
            "0     Hayatta küçük şeyleri kovalıyor ve yine küçük ...         -1\n",
            "1                 Seydiu şimdi iki mevkiyi de kaybetti.         -1\n",
            "2     Fakat öte yandan, hayatta gelişim sağlayabilme...          0\n",
            "3                     Seferler Haziran ayında başlıyor.          0\n",
            "4            Siyasette temiz insanlara ihtiyacımız var.          1\n",
            "...                                                 ...        ...\n",
            "4996                    Kamuoyu ikiye bölünmüş durumda.         -1\n",
            "4997          Ancak Hiseni suçlamaktan da geri kalmadı.         -1\n",
            "4998           Kosova başkentindeki yolcu sayısı arttı.          0\n",
            "4999                Bu tamamen Kosova yönetimine bağlı.         -1\n",
            "5000        Bu olay daha büyük yankılara yol açacak mı?         -1\n",
            "\n",
            "[5001 rows x 2 columns]\n"
          ],
          "name": "stdout"
        }
      ]
    },
    {
      "cell_type": "code",
      "metadata": {
        "colab": {
          "base_uri": "https://localhost:8080/"
        },
        "id": "DTNFdm1SGIzl",
        "outputId": "fcceb496-f25f-406a-db1f-6452980650a2"
      },
      "source": [
        "df['Sentiment'].value_counts() #2430 nötr, 1989 negatif ve 582 pozitif cümle elde edilmiştir."
      ],
      "execution_count": 9,
      "outputs": [
        {
          "output_type": "execute_result",
          "data": {
            "text/plain": [
              " 0    2430\n",
              "-1    1989\n",
              " 1     582\n",
              "Name: Sentiment, dtype: int64"
            ]
          },
          "metadata": {
            "tags": []
          },
          "execution_count": 9
        }
      ]
    }
  ]
}